{
 "cells": [
  {
   "metadata": {},
   "cell_type": "markdown",
   "source": [
    "# COLLECTE ET HARMONISATION DES DONNEES - REPUBLIQUE DU BENIN\n",
    "\n",
    "## Objectifs\n",
    "   - **Thématique**: Démographie - Economie - Santé - Education - Géographie\n",
    "   - **Sources**: INStad - Portails Open Data - Worl Bank API - Web scraping\n",
    "   - **Couverture**: Tous les départements du bénin\n",
    "   - **Période**: 2020 - 2025 (Selon la disponibilité des données au niveau des sources)\n",
    "### Python version: 3.13.7"
   ],
   "id": "614aac20f8b74145"
  },
  {
   "metadata": {},
   "cell_type": "markdown",
   "source": "### Configuration des imports",
   "id": "b5604f4c399f266c"
  },
  {
   "metadata": {},
   "cell_type": "code",
   "outputs": [],
   "execution_count": null,
   "source": [
    "# =============================\n",
    "# Imports\n",
    "# =============================\n",
    "\n",
    "# Standard library\n",
    "import os\n",
    "import re\n",
    "import json\n",
    "import time\n",
    "import zipfile\n",
    "import warnings\n",
    "import logging\n",
    "from io import BytesIO\n",
    "from pathlib import Path\n",
    "from datetime import datetime\n",
    "from typing import Optional\n",
    "from urllib.parse import urljoin, urlparse\n",
    "\n",
    "# Third-party\n",
    "import requests\n",
    "import pandas as pd\n",
    "import numpy as np\n",
    "import matplotlib.pyplot as plt\n",
    "import seaborn as sns\n",
    "from bs4 import BeautifulSoup\n",
    "\n",
    "# =============================\n",
    "# Configurations globales\n",
    "# =============================\n",
    "\n",
    "# Warnings\n",
    "warnings.filterwarnings(\"ignore\", category=UserWarning, module=\"bs4\")\n",
    "\n",
    "# Logging\n",
    "logging.basicConfig(\n",
    "    level=logging.INFO,\n",
    "    format=\"%(asctime)s | %(levelname)s | %(message)s\"\n",
    ")\n",
    "\n",
    "# Pandas\n",
    "pd.set_option(\"display.max_rows\", 100)  # nb max de lignes affichées\n",
    "pd.set_option(\"display.max_columns\", None)  # affiche toutes les colonnes\n",
    "pd.set_option(\"display.float_format\", \"{:.2f}\".format)  # formatage des floats\n",
    "pd.set_option(\"display.expand_frame_repr\", False)  # évite retour ligne inutile\n",
    "\n",
    "# Matplotlib / Seaborn\n",
    "plt.style.use(\"seaborn-v0_8-whitegrid\")  # style moderne et lisible\n",
    "plt.rcParams[\"figure.figsize\"] = (10, 6)\n",
    "plt.rcParams[\"axes.titlesize\"] = 14\n",
    "plt.rcParams[\"axes.labelsize\"] = 12\n",
    "sns.set_palette(\"Set2\")\n",
    "\n",
    "# =============================\n",
    "# Check initialisation\n",
    "# =============================\n",
    "\n",
    "logging.info(\"Librairies et configurations chargées\")\n",
    "logging.info(\"Début de la collecte de données: %s\", datetime.now().strftime(\"%d/%m/%Y %H:%M:%S\"))\n"
   ],
   "id": "f4878bcc29f9406b"
  },
  {
   "metadata": {},
   "cell_type": "markdown",
   "source": "### Configuration des dossiers",
   "id": "446520b4a707b964"
  },
  {
   "metadata": {},
   "cell_type": "markdown",
   "source": "#### Fonction de configurations de dossiers, réutilisable",
   "id": "d0bd16f57d830833"
  },
  {
   "metadata": {},
   "cell_type": "code",
   "outputs": [],
   "execution_count": null,
   "source": [
    "def init_directory(base_dir: Optional[Path]) -> dict:\n",
    "    \"\"\"\n",
    "    Initialise l'aborescence de données dans le projet\n",
    "\n",
    "    :param base_dir: Optionnel, Répertoire de base du projet, par défaut répertoire où le script est appelé\n",
    "    :return: Retourne un dictionnaire des chemins créés\n",
    "    \"\"\"\n",
    "\n",
    "    if base_dir is None:\n",
    "        base_dir = Path(__file__).resolve().parent\n",
    "\n",
    "    data_dir = base_dir / \"data\"  # Répertoire ou se trouvera les données\n",
    "    dirs = {\n",
    "        \"data\": data_dir,\n",
    "        \"raw_data\": data_dir / \"raw_data\",  # Répertoire des données brutes\n",
    "        \"processed_data\": data_dir / \"processed_data\",  # Répertoire des données traitées\n",
    "        \"final_data\": data_dir / \"final_data\",  # Répertoire des données finales\n",
    "    }"
   ],
   "id": "e4b827eb5f4f2c19"
  }
 ],
 "metadata": {
  "kernelspec": {
   "display_name": "Python 3",
   "language": "python",
   "name": "python3"
  },
  "language_info": {
   "codemirror_mode": {
    "name": "ipython",
    "version": 2
   },
   "file_extension": ".py",
   "mimetype": "text/x-python",
   "name": "python",
   "nbconvert_exporter": "python",
   "pygments_lexer": "ipython2",
   "version": "2.7.6"
  }
 },
 "nbformat": 4,
 "nbformat_minor": 5
}
